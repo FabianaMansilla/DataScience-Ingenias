{
  "nbformat": 4,
  "nbformat_minor": 0,
  "metadata": {
    "kernelspec": {
      "display_name": "Python 3",
      "language": "python",
      "name": "python3"
    },
    "language_info": {
      "codemirror_mode": {
        "name": "ipython",
        "version": 3
      },
      "file_extension": ".py",
      "mimetype": "text/x-python",
      "name": "python",
      "nbconvert_exporter": "python",
      "pygments_lexer": "ipython3",
      "version": "3.7.3"
    },
    "colab": {
      "provenance": []
    }
  },
  "cells": [
    {
      "cell_type": "markdown",
      "metadata": {
        "id": "Gp2WddtV9IwG"
      },
      "source": [
        "# Programa Ingenias+ Data Science"
      ]
    },
    {
      "cell_type": "markdown",
      "metadata": {
        "id": "l1Ay3nSs9IwN"
      },
      "source": [
        "## Clase 4: Introduccion a NumPy"
      ]
    },
    {
      "cell_type": "markdown",
      "metadata": {
        "id": "X03mviQS9IyL"
      },
      "source": [
        "# Ejercicios\n",
        "\n",
        "1. Crear un arreglo de ceros de longitud 12\n",
        "2. Crear un arreglo de longitud 10 con ceros en todas sus posiciones y un 10 en la posición número 5\n",
        "3. Crear un arreglo que tenga los números del 10 al 49\n",
        "4. Crear una arreglo 2d de shape (3, 3) que tenga los números del 0 al 8\n",
        "5. Crear un arreglo de números aleatorios de longitud 100 y obtener su media y varianza\n",
        "6. Calcular la media de un arreglo usando np.sum\n",
        "7. Calcular la varianza de un arreglo usando np.sum y np.mean\n",
        "8. Crear un array de números aleatorios usando np.random.randn.\n"
      ]
    },
    {
      "cell_type": "code",
      "metadata": {
        "id": "G0NMKT609IyM",
        "colab": {
          "base_uri": "https://localhost:8080/"
        },
        "outputId": "cded770c-40b1-4c35-f0c4-c57bba9bf414"
      },
      "source": [
        "import numpy as np\n",
        "\n",
        "# 1. Crear un arreglo de ceros de longitud 12.\n",
        "EJ1 = np.zeros(12)\n",
        "print (\"EJERCICIO 1\\n\", EJ1)\n",
        "\n",
        "# 2. Crear un arreglo de longitud 10 con ceros en todas sus posiciones y un 10 en la posición número 5.\n",
        "EJ2 = np.zeros(12)\n",
        "EJ2[4]=10\n",
        "print(\"EJERCICIO 2\\n\", EJ2)\n",
        "\n",
        "# 3. Crear un arregle que tenga los números del 10 al 49.\n",
        "EJ3 = np.arange(10, 50)\n",
        "print(\"EJERCICIO 3\\n\", EJ3)\n",
        "\n",
        "# 4. Crear una arreglo 2d de shape (3, 3) que tenga los números del 0 al 8\n",
        "EJ4 = np.arange(9).reshape(3, 3)\n",
        "print(\"EJERCICIO 4\\n\", EJ4)\n",
        "\n",
        "# 5. Crear un arreglo de números aleatorios de longitud 100 y obtener su media y varianza\n",
        "EJ5 = (np.random.rand(100))\n",
        "print(\"EJERCICIO 5\\n\", EJ5)\n",
        "print(\"EJERCICIO 5 - MEDIA\\n\", np.mean(EJ5))\n",
        "print(\"EJERCICIO 5 - VARIANZA\\n\", np.var(EJ5))\n",
        "\n",
        "# 6. Calcular la media de un arreglo usando np.sum\n",
        "EJ6 = media_sum = np.sum(EJ5)/ len(EJ5)\n",
        "print(\"EJERCICIO 6 - MEDIA CON NP.SUM\\n\", EJ6)\n",
        "\n",
        "# 7. Calcular la varianza de un arreglo usando np.sum y np.mean\n",
        "MEDIA_EJ5 = np.mean(EJ5)\n",
        "CALCULO_VARIANZA = np.sum((EJ5 - MEDIA_EJ5) ** 2) / len(EJ5)\n",
        "print(\"EJERCICIO 7 - CALCULO VARIANZA \\n\", CALCULO_VARIANZA)\n",
        "\n",
        "# 8. Crear un array de números aleatorios usando np.random.randn.\n",
        "EJ8 = np.random.randn(15)\n",
        "print(\"EJERCICIO 8\\n\", EJ8)\n",
        "\n",
        "\n"
      ],
      "execution_count": null,
      "outputs": [
        {
          "output_type": "stream",
          "name": "stdout",
          "text": [
            "EJERCICIO 1\n",
            " [0. 0. 0. 0. 0. 0. 0. 0. 0. 0. 0. 0.]\n",
            "EJERCICIO 2\n",
            " [ 0.  0.  0.  0. 10.  0.  0.  0.  0.  0.  0.  0.]\n",
            "EJERCICIO 3\n",
            " [10 11 12 13 14 15 16 17 18 19 20 21 22 23 24 25 26 27 28 29 30 31 32 33\n",
            " 34 35 36 37 38 39 40 41 42 43 44 45 46 47 48 49]\n",
            "EJERCICIO 4\n",
            " [[0 1 2]\n",
            " [3 4 5]\n",
            " [6 7 8]]\n",
            "EJERCICIO 5\n",
            " [0.62181217 0.0515664  0.04376271 0.71109056 0.32212244 0.23511496\n",
            " 0.14382282 0.49521479 0.9729651  0.72092813 0.18618723 0.66479812\n",
            " 0.23771137 0.44366711 0.22166577 0.27963847 0.07419358 0.9386733\n",
            " 0.30941882 0.45380412 0.32144147 0.89650816 0.60658802 0.78583784\n",
            " 0.85161447 0.64332885 0.83414759 0.33162755 0.96093493 0.4021328\n",
            " 0.64499385 0.17679543 0.6840189  0.52484238 0.60953344 0.21945428\n",
            " 0.33382987 0.5512157  0.3312036  0.94325817 0.30318503 0.57721384\n",
            " 0.64158994 0.56516593 0.48803588 0.94324394 0.78146017 0.8724964\n",
            " 0.1419734  0.54529696 0.869169   0.10348076 0.52688783 0.66273022\n",
            " 0.20084819 0.32847611 0.45991902 0.78387989 0.57795563 0.42030216\n",
            " 0.24960656 0.55702697 0.68677376 0.17970978 0.68903043 0.65481599\n",
            " 0.99722277 0.386257   0.4889114  0.90746946 0.0226371  0.80237172\n",
            " 0.72989693 0.35587484 0.59867947 0.33693721 0.79320317 0.94369275\n",
            " 0.92295458 0.65194253 0.76670052 0.85484441 0.2917463  0.48352113\n",
            " 0.51879285 0.96435621 0.69543331 0.17607498 0.94356434 0.277056\n",
            " 0.19695102 0.48878555 0.32689442 0.31097546 0.38844127 0.96113506\n",
            " 0.69671567 0.49809746 0.10498624 0.72693377]\n",
            "EJERCICIO 5 - MEDIA\n",
            " 0.5320179593457746\n",
            "EJERCICIO 5 - VARIANZA\n",
            " 0.07124210542812018\n",
            "EJERCICIO 6 - MEDIA CON NP.SUM\n",
            " 0.5320179593457746\n",
            "EJERCICIO 7 - CALCULO VARIANZA \n",
            " 0.07124210542812018\n",
            "EJERCICIO 8\n",
            " [-0.09046883 -0.34584615 -1.36045667 -0.49333958 -1.3861423  -0.29998163\n",
            "  0.2123749  -0.68419234  0.88170045 -0.99908953  0.55209309  1.09799386\n",
            "  0.65512198  0.1591286  -0.44610507]\n"
          ]
        }
      ]
    }
  ]
}