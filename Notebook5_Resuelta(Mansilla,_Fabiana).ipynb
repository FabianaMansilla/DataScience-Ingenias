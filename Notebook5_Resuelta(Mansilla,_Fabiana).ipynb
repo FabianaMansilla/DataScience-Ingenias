{
  "nbformat": 4,
  "nbformat_minor": 0,
  "metadata": {
    "kernelspec": {
      "display_name": "Python 3",
      "language": "python",
      "name": "python3"
    },
    "language_info": {
      "codemirror_mode": {
        "name": "ipython",
        "version": 3
      },
      "file_extension": ".py",
      "mimetype": "text/x-python",
      "name": "python",
      "nbconvert_exporter": "python",
      "pygments_lexer": "ipython3",
      "version": "3.7.3"
    },
    "colab": {
      "provenance": []
    }
  },
  "cells": [
    {
      "cell_type": "markdown",
      "metadata": {
        "id": "Gp2WddtV9IwG"
      },
      "source": [
        "# Programa Ingenias+ Data Science"
      ]
    },
    {
      "cell_type": "markdown",
      "metadata": {
        "id": "l1Ay3nSs9IwN"
      },
      "source": [
        "## Clase 4: Introduccion a NumPy"
      ]
    },
    {
      "cell_type": "markdown",
      "metadata": {
        "id": "X03mviQS9IyL"
      },
      "source": [
        "# Ejercicios\n",
        "\n",
        "1. Crear un arreglo de ceros de longitud 12\n",
        "2. Crear un arreglo de longitud 10 con ceros en todas sus posiciones y un 10 en la posición número 5\n",
        "3. Crear un arreglo que tenga los números del 10 al 49\n",
        "4. Crear una arreglo 2d de shape (3, 3) que tenga los números del 0 al 8\n",
        "5. Crear un arreglo de números aleatorios de longitud 100 y obtener su media y varianza\n",
        "6. Calcular la media de un arreglo usando np.sum\n",
        "7. Calcular la varianza de un arreglo usando np.sum y np.mean\n",
        "8. Crear un array de números aleatorios usando np.random.randn.\n"
      ]
    },
    {
      "cell_type": "code",
      "metadata": {
        "id": "G0NMKT609IyM",
        "colab": {
          "base_uri": "https://localhost:8080/"
        },
        "outputId": "9e5b1bf7-b48e-442e-9b7e-dcfd398e07bd"
      },
      "source": [
        "import numpy as np\n",
        "\n",
        "# 1. Crear un arreglo de ceros de longitud 12.\n",
        "EJ1 = np.zeros(12)\n",
        "print (\"EJERCICIO 1\\n\", EJ1)\n",
        "\n",
        "# 2. Crear un arreglo de longitud 10 con ceros en todas sus posiciones y un 10 en la posición número 5.\n",
        "EJ2 = np.zeros(12)\n",
        "EJ2[4]=10\n",
        "print(\"EJERCICIO 2\\n\", EJ2)\n",
        "\n",
        "# 3. Crear un arregle que tenga los números del 10 al 49.\n",
        "EJ3 = np.arange(10, 50)\n",
        "print(\"EJERCICIO 3\\n\", EJ3)\n",
        "\n",
        "# 4. Crear una arreglo 2d de shape (3, 3) que tenga los números del 0 al 8\n",
        "EJ4 = np.arange(9).reshape(3, 3)\n",
        "print(\"EJERCICIO 4\\n\", EJ4)\n",
        "\n",
        "# 5. Crear un arreglo de números aleatorios de longitud 100 y obtener su media y varianza\n",
        "EJ5 = (np.random.rand(100))\n",
        "print(\"EJERCICIO 5\\n\", EJ5)\n",
        "print(\"EJERCICIO 5 - MEDIA\\n\", np.mean(EJ5))\n",
        "print(\"EJERCICIO 5 - VARIANZA\\n\", np.var(EJ5))\n",
        "\n",
        "# 6. Calcular la media de un arreglo usando np.sum\n",
        "EJ6 = media_sum = np.sum(EJ5)/ len(EJ5)\n",
        "print(\"EJERCICIO 6 - MEDIA CON NP.SUM\\n\", EJ6)\n",
        "\n",
        "# 7. Calcular la varianza de un arreglo usando np.sum y np.mean\n",
        "MEDIA_EJ5 = np.mean(EJ5)\n",
        "CALCULO_VARIANZA = np.sum((EJ5 - MEDIA_EJ5) ** 2) / len(EJ5)\n",
        "print(\"EJERCICIO 7 - CALCULO VARIANZA \\n\", CALCULO_VARIANZA)\n",
        "\n",
        "# 8. Crear un array de números aleatorios usando np.random.randn.\n",
        "EJ8 = np.random.randn(15)\n",
        "print(\"EJERCICIO 8\\n\", EJ8)\n",
        "\n",
        "\n"
      ],
      "execution_count": null,
      "outputs": [
        {
          "output_type": "stream",
          "name": "stdout",
          "text": [
            "EJERCICIO 1\n",
            " [0. 0. 0. 0. 0. 0. 0. 0. 0. 0. 0. 0.]\n",
            "EJERCICIO 2\n",
            " [ 0.  0.  0.  0. 10.  0.  0.  0.  0.  0.  0.  0.]\n",
            "EJERCICIO 3\n",
            " [10 11 12 13 14 15 16 17 18 19 20 21 22 23 24 25 26 27 28 29 30 31 32 33\n",
            " 34 35 36 37 38 39 40 41 42 43 44 45 46 47 48 49]\n",
            "EJERCICIO 4\n",
            " [[0 1 2]\n",
            " [3 4 5]\n",
            " [6 7 8]]\n",
            "EJERCICIO 5\n",
            " [0.34521964 0.41227132 0.23589647 0.75420706 0.74977865 0.59624215\n",
            " 0.90892769 0.32569629 0.46992644 0.15675731 0.89425527 0.49913946\n",
            " 0.47517425 0.04563219 0.12203803 0.63856059 0.97983259 0.24408257\n",
            " 0.48933097 0.54836406 0.45253683 0.69217201 0.0220601  0.1819429\n",
            " 0.70388966 0.96823717 0.83424132 0.92245726 0.35896019 0.49675798\n",
            " 0.84077281 0.20425272 0.53458502 0.67748139 0.91154528 0.47785377\n",
            " 0.069143   0.59054729 0.579005   0.95680131 0.03018827 0.37108229\n",
            " 0.04414473 0.54663349 0.88258098 0.95905527 0.59429904 0.44882944\n",
            " 0.97530762 0.82573921 0.31799188 0.80429076 0.81420713 0.53675166\n",
            " 0.33920793 0.74617845 0.10094142 0.89423033 0.57107665 0.21754079\n",
            " 0.33910084 0.02741455 0.65974297 0.40537384 0.42324058 0.74182632\n",
            " 0.13281747 0.47398951 0.21131316 0.69131027 0.44796378 0.7180036\n",
            " 0.74121723 0.40965474 0.69297785 0.72293974 0.78729467 0.19862786\n",
            " 0.73631107 0.00849139 0.6024708  0.94530032 0.87774067 0.3937841\n",
            " 0.56951724 0.84391915 0.84272249 0.60992684 0.70331256 0.55471513\n",
            " 0.12172563 0.81345743 0.76746089 0.44901716 0.02589312 0.82461537\n",
            " 0.86875308 0.94156203 0.53487037 0.78317268]\n",
            "EJERCICIO 5 - MEDIA\n",
            " 0.5503040187687064\n",
            "EJERCICIO 5 - VARIANZA\n",
            " 0.07733537652655025\n",
            "EJERCICIO 6 - MEDIA CON NP.SUM\n",
            " 0.5503040187687064\n",
            "EJERCICIO 7 - CALCULO VARIANZA \n",
            " 0.07733537652655025\n",
            "EJERCICIO 8\n",
            " [-0.58234158 -1.69388149 -0.6146022  -2.00231971  1.11541504  0.41730893\n",
            "  0.63675719 -0.30134654  1.051615    0.90419957 -0.21895322  0.08669472\n",
            "  0.21816722 -2.14402488  0.75948535]\n"
          ]
        }
      ]
    }
  ]
}